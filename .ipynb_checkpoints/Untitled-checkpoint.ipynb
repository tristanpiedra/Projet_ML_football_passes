{
 "cells": [
  {
   "cell_type": "code",
   "execution_count": 1,
   "metadata": {},
   "outputs": [
    {
     "name": "stderr",
     "output_type": "stream",
     "text": [
      "C:\\Users\\Tristan\\Anaconda2\\lib\\site-packages\\sklearn\\ensemble\\weight_boosting.py:29: DeprecationWarning: numpy.core.umath_tests is an internal NumPy module and should not be imported. It will be removed in a future NumPy release.\n",
      "  from numpy.core.umath_tests import inner1d\n"
     ]
    }
   ],
   "source": [
    "import os\n",
    "import numpy as np\n",
    "import pandas as pd\n",
    "import matplotlib.pyplot as plt\n",
    "from functions import *\n",
    "from Scores import *\n",
    "from create_dataframe import * \n",
    "from create_dataframe_regression import * \n",
    "from logistic_regression import *\n",
    "from numpy.random import *\n",
    "import time \n",
    "import warnings\n",
    "from Random_forest import *\n",
    "warnings.filterwarnings(\"ignore\")\n",
    "from sklearn.model_selection import train_test_split\n",
    "from sklearn.linear_model import LogisticRegression\n",
    "from sklearn.preprocessing import StandardScaler\n",
    "from sklearn.model_selection import GridSearchCV\n",
    "#from logistic_regression_optimise import * "
   ]
  },
  {
   "cell_type": "markdown",
   "metadata": {},
   "source": [
    "<font color='blue'>\n",
    "    Voici les résultats de la Random Forest de max_depth = 5 et max_features = 2. "
   ]
  },
  {
   "cell_type": "code",
   "execution_count": 2,
   "metadata": {},
   "outputs": [],
   "source": [
    "x, y = RandomForest (10, 0.7)"
   ]
  },
  {
   "cell_type": "code",
   "execution_count": 3,
   "metadata": {},
   "outputs": [
    {
     "data": {
      "text/plain": [
       "array([0.42729084, 0.4189907 , 0.42297477, 0.42961487, 0.41733068,\n",
       "       0.44920319, 0.42463479, 0.42828685, 0.42828685, 0.437251  ])"
      ]
     },
     "execution_count": 3,
     "metadata": {},
     "output_type": "execute_result"
    }
   ],
   "source": [
    "x"
   ]
  },
  {
   "cell_type": "code",
   "execution_count": 4,
   "metadata": {},
   "outputs": [
    {
     "data": {
      "text/plain": [
       "0.428386454183267"
      ]
     },
     "execution_count": 4,
     "metadata": {},
     "output_type": "execute_result"
    }
   ],
   "source": [
    "y"
   ]
  },
  {
   "cell_type": "code",
   "execution_count": 3,
   "metadata": {},
   "outputs": [],
   "source": [
    "x, y = regression_logistique_optimisee (10, 0.7)"
   ]
  },
  {
   "cell_type": "code",
   "execution_count": 4,
   "metadata": {},
   "outputs": [
    {
     "data": {
      "text/plain": [
       "array([0.42629482, 0.41201859, 0.41799469, 0.43061089, 0.42164675,\n",
       "       0.41633466, 0.42231076, 0.42994688, 0.41367862, 0.42098274])"
      ]
     },
     "execution_count": 4,
     "metadata": {},
     "output_type": "execute_result"
    }
   ],
   "source": [
    "x"
   ]
  },
  {
   "cell_type": "code",
   "execution_count": 5,
   "metadata": {},
   "outputs": [
    {
     "data": {
      "text/plain": [
       "0.4211819389110226"
      ]
     },
     "execution_count": 5,
     "metadata": {},
     "output_type": "execute_result"
    }
   ],
   "source": [
    "y"
   ]
  },
  {
   "cell_type": "code",
   "execution_count": null,
   "metadata": {},
   "outputs": [],
   "source": []
  },
  {
   "cell_type": "code",
   "execution_count": 5,
   "metadata": {},
   "outputs": [],
   "source": [
    "data = pd.read_csv(\"dataframe_regression.csv\")\n",
    "data  = data.sort_values([\"passe_id\", \"receveur_potentiel\"]).reset_index().drop([\"index\"], axis = 1)\n",
    "data.drop([\"Unnamed: 0\"], axis = 1)\n",
    "\n",
    "col = data.columns.tolist()\n",
    "col = col[1:]\n",
    "data = data[col]\n",
    "data = data.drop([\"sender_id\"], 1)\n",
    "data = data.drop([\"premiere_distance_sender\"], 1)\n",
    "data= data.drop([\"seconde_distance_sender\"], 1)\n",
    "\n"
   ]
  },
  {
   "cell_type": "markdown",
   "metadata": {},
   "source": [
    "<font color = 'blue'>\n",
    " Ici on teste d'optimiser le paramètre C avec une contrainte l1"
   ]
  },
  {
   "cell_type": "code",
   "execution_count": 27,
   "metadata": {},
   "outputs": [
    {
     "name": "stdout",
     "output_type": "stream",
     "text": [
      " Meilleur paramètre = {'C': 4.2}\n"
     ]
    }
   ],
   "source": [
    "n_passes = 10039\n",
    "\n",
    "liste_passes_train = choice(range(1,n_passes+1), size = int(0.7 * n_passes), replace = False)\n",
    "liste_passes_train.sort()\n",
    "\n",
    "\n",
    "n_passes_train = int(0.7 * n_passes) \n",
    "n_passes_test = n_passes - n_passes_train\n",
    "#data = scaler.fit_transform (data) \n",
    "X_train = data [ data[\"passe_id\"].isin(liste_passes_train)]\n",
    "y_train = data [ data[\"passe_id\"].isin(liste_passes_train)] [\"passe\"]\n",
    "X_test = data [ ~data[\"passe_id\"].isin(liste_passes_train)]\n",
    "y_test = data [ ~data[\"passe_id\"].isin(liste_passes_train)] [\"passe\"]\n",
    "#X_train, X_test, y_train, y_test = train_test_split(data, Y, test_size=0.2, random_state=37)\n",
    "\n",
    "\n",
    "vect_receveur_potentiel = X_test[\"receveur_potentiel\"]\n",
    "vect_vrai_receveur = X_test [\"receiver_id\"]\n",
    "\n",
    "X_train = X_train.drop([\"passe\"], 1)\n",
    "X_train = X_train.drop([\"passe_id\"], 1)\n",
    "X_train = X_train.drop([\"receveur_potentiel\"], 1)\n",
    "X_train = X_train.drop([\"receiver_id\"], 1)\n",
    "\n",
    "X_test = X_test.drop([\"passe\"], 1)\n",
    "X_test = X_test.drop([\"passe_id\"], 1)\n",
    "X_test = X_test.drop([\"receveur_potentiel\"], 1)\n",
    "X_test = X_test.drop([\"receiver_id\"], 1)\n",
    "\n",
    "\n",
    "param=[{\"C\":[2.5,2.7,3,3.5,3.8,4,4.2,4.5,4.7]}]\n",
    "logit = GridSearchCV(LogisticRegression(penalty=\"l1\"), param, cv=5, n_jobs = -1)\n",
    "\n",
    "\n",
    "\n",
    "logitopt = logit.fit(X_train, y_train)\n",
    "\n",
    "logitopt.best_params_[\"C\"]\n",
    "print(\" Meilleur paramètre = %s\" % (logitopt.best_params_))\n",
    "\n",
    "#logitopt = logitopt.best_estimator_\n",
    "#logitfit = logitopt.fit(X_train, y_train)\n",
    "proba = logitopt.predict_proba (X_test)\n",
    "pred = logitopt.predict (X_test)\n",
    "score = logitopt.score(X_test, y_test)\n",
    "\n",
    "#logitopt.best_params_[\"C\"]\n",
    "#print(\" Meilleur paramètre = %s\" % (logitfit.best_params_))"
   ]
  },
  {
   "cell_type": "code",
   "execution_count": 19,
   "metadata": {},
   "outputs": [],
   "source": [
    "### pour pas faire de validation croisee\n",
    "n_passes = 10039\n",
    "\n",
    "liste_passes_train = choice(range(1,n_passes+1), size = int(0.7 * n_passes), replace = False)\n",
    "liste_passes_train.sort()\n",
    "\n",
    "\n",
    "n_passes_train = int(0.7 * n_passes) \n",
    "n_passes_test = n_passes - n_passes_train\n",
    "#data = scaler.fit_transform (data) \n",
    "X_train = data [ data[\"passe_id\"].isin(liste_passes_train)]\n",
    "y_train = data [ data[\"passe_id\"].isin(liste_passes_train)] [\"passe\"]\n",
    "X_test = data [ ~data[\"passe_id\"].isin(liste_passes_train)]\n",
    "y_test = data [ ~data[\"passe_id\"].isin(liste_passes_train)] [\"passe\"]\n",
    "#X_train, X_test, y_train, y_test = train_test_split(data, Y, test_size=0.2, random_state=37)\n",
    "\n",
    "\n",
    "vect_receveur_potentiel = X_test[\"receveur_potentiel\"]\n",
    "vect_vrai_receveur = X_test [\"receiver_id\"]\n",
    "\n",
    "X_train = X_train.drop([\"passe\"], 1)\n",
    "X_train = X_train.drop([\"passe_id\"], 1)\n",
    "X_train = X_train.drop([\"receveur_potentiel\"], 1)\n",
    "X_train = X_train.drop([\"receiver_id\"], 1)\n",
    "\n",
    "X_test = X_test.drop([\"passe\"], 1)\n",
    "X_test = X_test.drop([\"passe_id\"], 1)\n",
    "X_test = X_test.drop([\"receveur_potentiel\"], 1)\n",
    "X_test = X_test.drop([\"receiver_id\"], 1)\n",
    "\n",
    "\n",
    "param=[{\"C\":[2.5,2.7,3,3.5,3.8,4,4.2,4.5,4.7]}]\n",
    "logit = LogisticRegression(penalty=\"l1\" , C = 7)\n",
    "\n",
    "\n",
    "\n",
    "logitopt = logit.fit(X_train, y_train)\n",
    "\n",
    "\n",
    "\n",
    "#logitopt = logitopt.best_estimator_\n",
    "#logitfit = logitopt.fit(X_train, y_train)\n",
    "proba = logitopt.predict_proba (X_test)\n",
    "pred = logitopt.predict (X_test)\n",
    "score = logitopt.score(X_test, y_test)\n",
    "\n"
   ]
  },
  {
   "cell_type": "code",
   "execution_count": 20,
   "metadata": {},
   "outputs": [],
   "source": [
    "result = proba[:,1]\n",
    "\n",
    "#on recupere dans prediction_indice les indices des lignes du dataframe test ou il y a la proba max \n",
    "prediction_indice = np.zeros(n_passes_test)\n",
    "for i in range(n_passes_test):\n",
    "    prediction_indice[i] = int(np.argmax(result[i*14 : (i+1) * 14 ]) + (i*14))\n",
    "\n",
    "\n",
    "X_test[\"receveur_potentiel\"] = vect_receveur_potentiel \n",
    "\n",
    "\n",
    "#on recupere dans prediction les receveurs potentiels qui ont le plus de chance de recevoir la passe  \n",
    "prediction = np.zeros(n_passes_test)\n",
    "count = 0\n",
    "for i in prediction_indice:\n",
    "    prediction[count] = X_test.iloc[int(i)][\"receveur_potentiel\"] \n",
    "    count += 1\n",
    "\n",
    "\n",
    "verif = np.zeros(len(prediction))\n",
    "for i in range(len(prediction)):\n",
    "    verif [i] = np.array(vect_vrai_receveur) [i*14]\n",
    "\n",
    "\n",
    "taux_reussite = np.mean ((verif - prediction)%14 == 0)"
   ]
  },
  {
   "cell_type": "code",
   "execution_count": 21,
   "metadata": {},
   "outputs": [
    {
     "data": {
      "text/plain": [
       "0.4156706507304117"
      ]
     },
     "execution_count": 21,
     "metadata": {},
     "output_type": "execute_result"
    }
   ],
   "source": [
    "taux_reussite"
   ]
  },
  {
   "cell_type": "markdown",
   "metadata": {},
   "source": [
    "<font color = 'blue'>\n",
    " Ici on teste d'optimiser le paramètre C avec une contrainte l2"
   ]
  },
  {
   "cell_type": "code",
   "execution_count": 12,
   "metadata": {},
   "outputs": [
    {
     "name": "stdout",
     "output_type": "stream",
     "text": [
      " Meilleur paramètre = {'C': 1e-05}\n"
     ]
    }
   ],
   "source": [
    "n_passes = 10039\n",
    "\n",
    "liste_passes_train = choice(range(1,n_passes+1), size = int(0.7 * n_passes), replace = False)\n",
    "liste_passes_train.sort()\n",
    "\n",
    "\n",
    "n_passes_train = int(0.7 * n_passes) \n",
    "n_passes_test = n_passes - n_passes_train\n",
    "#data = scaler.fit_transform (data) \n",
    "X_train = data [ data[\"passe_id\"].isin(liste_passes_train)]\n",
    "y_train = data [ data[\"passe_id\"].isin(liste_passes_train)] [\"passe\"]\n",
    "X_test = data [ ~data[\"passe_id\"].isin(liste_passes_train)]\n",
    "y_test = data [ ~data[\"passe_id\"].isin(liste_passes_train)] [\"passe\"]\n",
    "#X_train, X_test, y_train, y_test = train_test_split(data, Y, test_size=0.2, random_state=37)\n",
    "\n",
    "\n",
    "vect_receveur_potentiel = X_test[\"receveur_potentiel\"]\n",
    "vect_vrai_receveur = X_test [\"receiver_id\"]\n",
    "\n",
    "X_train = X_train.drop([\"passe\"], 1)\n",
    "X_train = X_train.drop([\"passe_id\"], 1)\n",
    "X_train = X_train.drop([\"receveur_potentiel\"], 1)\n",
    "X_train = X_train.drop([\"receiver_id\"], 1)\n",
    "\n",
    "X_test = X_test.drop([\"passe\"], 1)\n",
    "X_test = X_test.drop([\"passe_id\"], 1)\n",
    "X_test = X_test.drop([\"receveur_potentiel\"], 1)\n",
    "X_test = X_test.drop([\"receiver_id\"], 1)\n",
    "\n",
    "\n",
    "param=[{\"C\":[1e-07, 1e-06, 0.00001, 0.0001, 0.001]}]\n",
    "logit = GridSearchCV(LogisticRegression(penalty=\"l2\"), param, cv=5, n_jobs = -1)\n",
    "\n",
    "\n",
    "\n",
    "logitopt = logit.fit(X_train, y_train)\n",
    "proba = logitopt.predict_proba (X_test)\n",
    "pred = logitopt.predict (X_test)\n",
    "score = logitopt.score(X_test, y_test)\n",
    "\n",
    "logitopt.best_params_[\"C\"]\n",
    "print(\" Meilleur paramètre = %s\" % (logitopt.best_params_))"
   ]
  },
  {
   "cell_type": "code",
   "execution_count": 13,
   "metadata": {},
   "outputs": [],
   "source": [
    "result = proba[:,1]\n",
    "\n",
    "#on recupere dans prediction_indice les indices des lignes du dataframe test ou il y a la proba max \n",
    "prediction_indice = np.zeros(n_passes_test)\n",
    "for i in range(n_passes_test):\n",
    "    prediction_indice[i] = int(np.argmax(result[i*14 : (i+1) * 14 ]) + (i*14))\n",
    "\n",
    "\n",
    "X_test[\"receveur_potentiel\"] = vect_receveur_potentiel \n",
    "\n",
    "\n",
    "#on recupere dans prediction les receveurs potentiels qui ont le plus de chance de recevoir la passe  \n",
    "prediction = np.zeros(n_passes_test)\n",
    "count = 0\n",
    "for i in prediction_indice:\n",
    "    prediction[count] = X_test.iloc[int(i)][\"receveur_potentiel\"] \n",
    "    count += 1\n",
    "\n",
    "\n",
    "verif = np.zeros(len(prediction))\n",
    "for i in range(len(prediction)):\n",
    "    verif [i] = np.array(vect_vrai_receveur) [i*14]\n",
    "\n",
    "\n",
    "taux_reussite = np.mean ((verif - prediction)%14 == 0)"
   ]
  },
  {
   "cell_type": "code",
   "execution_count": 14,
   "metadata": {},
   "outputs": [
    {
     "data": {
      "text/plain": [
       "0.40106241699867196"
      ]
     },
     "execution_count": 14,
     "metadata": {},
     "output_type": "execute_result"
    }
   ],
   "source": [
    "taux_reussite"
   ]
  },
  {
   "cell_type": "markdown",
   "metadata": {},
   "source": [
    "<font color = 'blue'>\n",
    "Ici on tente le random forest. Pour l'instant, l'optimisation se fait sur les max_features et on obtient le mieux lorsque max_features = 2. 38/39/40% de reussite. Très rapide lorsqu'il n'y a pas de validation croisée.  En essayant d'optimiser le max_depth, on obtient que l'optimal c'est autour d'un arbre de profondeur 5. Prediction autour de 42-43% : les meillerus résultats avec la régression logistique."
   ]
  },
  {
   "cell_type": "code",
   "execution_count": 5,
   "metadata": {},
   "outputs": [],
   "source": [
    "from sklearn.ensemble import RandomForestClassifier"
   ]
  },
  {
   "cell_type": "code",
   "execution_count": 6,
   "metadata": {},
   "outputs": [
    {
     "name": "stdout",
     "output_type": "stream",
     "text": [
      " Meilleur paramètre = {'max_depth': 5}\n"
     ]
    }
   ],
   "source": [
    "n_passes = 10039\n",
    "\n",
    "liste_passes_train = choice(range(1,n_passes+1), size = int(0.7 * n_passes), replace = False)\n",
    "liste_passes_train.sort()\n",
    "\n",
    "\n",
    "n_passes_train = int(0.7 * n_passes) \n",
    "n_passes_test = n_passes - n_passes_train\n",
    "#data = scaler.fit_transform (data) \n",
    "X_train = data [ data[\"passe_id\"].isin(liste_passes_train)]\n",
    "y_train = data [ data[\"passe_id\"].isin(liste_passes_train)] [\"passe\"]\n",
    "X_test = data [ ~data[\"passe_id\"].isin(liste_passes_train)]\n",
    "y_test = data [ ~data[\"passe_id\"].isin(liste_passes_train)] [\"passe\"]\n",
    "#X_train, X_test, y_train, y_test = train_test_split(data, Y, test_size=0.2, random_state=37)\n",
    "\n",
    "\n",
    "vect_receveur_potentiel = X_test[\"receveur_potentiel\"]\n",
    "vect_vrai_receveur = X_test [\"receiver_id\"]\n",
    "\n",
    "X_train = X_train.drop([\"passe\"], 1)\n",
    "X_train = X_train.drop([\"passe_id\"], 1)\n",
    "X_train = X_train.drop([\"receveur_potentiel\"], 1)\n",
    "X_train = X_train.drop([\"receiver_id\"], 1)\n",
    "\n",
    "X_test = X_test.drop([\"passe\"], 1)\n",
    "X_test = X_test.drop([\"passe_id\"], 1)\n",
    "X_test = X_test.drop([\"receveur_potentiel\"], 1)\n",
    "X_test = X_test.drop([\"receiver_id\"], 1)\n",
    "\n",
    "\n",
    "param=[{\"max_depth\":list(range(2,6,1))}]\n",
    "logit = GridSearchCV(RandomForestClassifier(n_estimators=100, max_features = 2), param, cv=5, n_jobs = -1)\n",
    "\n",
    "\n",
    "logitopt = logit.fit(X_train, y_train)\n",
    "\n",
    "logitopt.best_params_[\"max_depth\"]\n",
    "print(\" Meilleur paramètre = %s\" % (logitopt.best_params_))\n",
    "\n",
    "pred = logitopt.predict (X_test)\n",
    "score = logitopt.score(X_test, y_test)\n",
    "proba = logitopt.predict_proba (X_test)"
   ]
  },
  {
   "cell_type": "code",
   "execution_count": 8,
   "metadata": {},
   "outputs": [
    {
     "data": {
      "text/plain": [
       "5"
      ]
     },
     "execution_count": 8,
     "metadata": {},
     "output_type": "execute_result"
    }
   ],
   "source": [
    "logitopt.best_params_['max_depth']"
   ]
  },
  {
   "cell_type": "code",
   "execution_count": 40,
   "metadata": {},
   "outputs": [],
   "source": [
    "#A FAIRE POUR PAS FAIRE DE VALIDATION CROISEE\n",
    "\n",
    "n_passes = 10039\n",
    "\n",
    "liste_passes_train = choice(range(1,n_passes+1), size = int(0.7 * n_passes), replace = False)\n",
    "liste_passes_train.sort()\n",
    "\n",
    "\n",
    "n_passes_train = int(0.7 * n_passes) \n",
    "n_passes_test = n_passes - n_passes_train\n",
    "#data = scaler.fit_transform (data) \n",
    "X_train = data [ data[\"passe_id\"].isin(liste_passes_train)]\n",
    "y_train = data [ data[\"passe_id\"].isin(liste_passes_train)] [\"passe\"]\n",
    "X_test = data [ ~data[\"passe_id\"].isin(liste_passes_train)]\n",
    "y_test = data [ ~data[\"passe_id\"].isin(liste_passes_train)] [\"passe\"]\n",
    "#X_train, X_test, y_train, y_test = train_test_split(data, Y, test_size=0.2, random_state=37)\n",
    "\n",
    "\n",
    "vect_receveur_potentiel = X_test[\"receveur_potentiel\"]\n",
    "vect_vrai_receveur = X_test [\"receiver_id\"]\n",
    "\n",
    "X_train = X_train.drop([\"passe\"], 1)\n",
    "X_train = X_train.drop([\"passe_id\"], 1)\n",
    "X_train = X_train.drop([\"receveur_potentiel\"], 1)\n",
    "X_train = X_train.drop([\"receiver_id\"], 1)\n",
    "\n",
    "X_test = X_test.drop([\"passe\"], 1)\n",
    "X_test = X_test.drop([\"passe_id\"], 1)\n",
    "X_test = X_test.drop([\"receveur_potentiel\"], 1)\n",
    "X_test = X_test.drop([\"receiver_id\"], 1)\n",
    "\n",
    "\n",
    "\n",
    "logit = RandomForestClassifier(n_estimators=100, max_features = 3, max_depth = 6, oob_score = True)\n",
    "\n",
    "\n",
    "logitopt = logit.fit(X_train, y_train)\n",
    "\n",
    "pred = logitopt.predict (X_test)\n",
    "score = logitopt.score(X_test, y_test)\n",
    "proba = logitopt.predict_proba (X_test)"
   ]
  },
  {
   "cell_type": "code",
   "execution_count": 41,
   "metadata": {},
   "outputs": [],
   "source": [
    "result = proba[:,1]\n",
    "\n",
    "#on recupere dans prediction_indice les indices des lignes du dataframe test ou il y a la proba max \n",
    "prediction_indice = np.zeros(n_passes_test)\n",
    "for i in range(n_passes_test):\n",
    "    prediction_indice[i] = int(np.argmax(result[i*14 : (i+1) * 14 ]) + (i*14))\n",
    "\n",
    "\n",
    "X_test[\"receveur_potentiel\"] = vect_receveur_potentiel \n",
    "\n",
    "\n",
    "#on recupere dans prediction les receveurs potentiels qui ont le plus de chance de recevoir la passe  \n",
    "prediction = np.zeros(n_passes_test)\n",
    "count = 0\n",
    "for i in prediction_indice:\n",
    "    prediction[count] = X_test.iloc[int(i)][\"receveur_potentiel\"] \n",
    "    count += 1\n",
    "\n",
    "\n",
    "verif = np.zeros(len(prediction))\n",
    "for i in range(len(prediction)):\n",
    "    verif [i] = np.array(vect_vrai_receveur) [i*14]\n",
    "\n",
    "\n",
    "taux_reussite = np.mean ((verif - prediction)%14 == 0)"
   ]
  },
  {
   "cell_type": "code",
   "execution_count": 42,
   "metadata": {},
   "outputs": [
    {
     "data": {
      "text/plain": [
       "0.4342629482071713"
      ]
     },
     "execution_count": 42,
     "metadata": {},
     "output_type": "execute_result"
    }
   ],
   "source": [
    "taux_reussite"
   ]
  },
  {
   "cell_type": "markdown",
   "metadata": {},
   "source": [
    "<font color='blue'>\n",
    "Ici on peut tester un MLP par exemble \n",
    "Ici on essaye d'optimiser la taille du réseau et après on fera sur le alpha. "
   ]
  },
  {
   "cell_type": "code",
   "execution_count": 5,
   "metadata": {},
   "outputs": [],
   "source": [
    "from sklearn.neural_network import MLPClassifier"
   ]
  },
  {
   "cell_type": "code",
   "execution_count": 42,
   "metadata": {},
   "outputs": [
    {
     "name": "stdout",
     "output_type": "stream",
     "text": [
      " Meilleur paramètre = {'hidden_layer_sizes': (8,)}\n"
     ]
    }
   ],
   "source": [
    "n_passes = 10039\n",
    "\n",
    "liste_passes_train = choice(range(1,n_passes+1), size = int(0.7 * n_passes), replace = False)\n",
    "liste_passes_train.sort()\n",
    "\n",
    "\n",
    "n_passes_train = int(0.7 * n_passes) \n",
    "n_passes_test = n_passes - n_passes_train\n",
    "#data = scaler.fit_transform (data) \n",
    "X_train = data [ data[\"passe_id\"].isin(liste_passes_train)]\n",
    "y_train = data [ data[\"passe_id\"].isin(liste_passes_train)] [\"passe\"]\n",
    "X_test = data [ ~data[\"passe_id\"].isin(liste_passes_train)]\n",
    "y_test = data [ ~data[\"passe_id\"].isin(liste_passes_train)] [\"passe\"]\n",
    "#X_train, X_test, y_train, y_test = train_test_split(data, Y, test_size=0.2, random_state=37)\n",
    "\n",
    "\n",
    "vect_receveur_potentiel = X_test[\"receveur_potentiel\"]\n",
    "vect_vrai_receveur = X_test [\"receiver_id\"]\n",
    "\n",
    "X_train = X_train.drop([\"passe\"], 1)\n",
    "X_train = X_train.drop([\"passe_id\"], 1)\n",
    "X_train = X_train.drop([\"receveur_potentiel\"], 1)\n",
    "X_train = X_train.drop([\"receiver_id\"], 1)\n",
    "\n",
    "X_test = X_test.drop([\"passe\"], 1)\n",
    "X_test = X_test.drop([\"passe_id\"], 1)\n",
    "X_test = X_test.drop([\"receveur_potentiel\"], 1)\n",
    "X_test = X_test.drop([\"receiver_id\"], 1)\n",
    "\n",
    "\n",
    "param = [{\"hidden_layer_sizes\":list([(7,),(8,), (9,), (10,)])}]\n",
    "logit = GridSearchCV(MLPClassifier(), param, cv=5, n_jobs = -1)\n",
    "\n",
    "\n",
    "logitopt = logit.fit(X_train, y_train)\n",
    "\n",
    "logitopt.best_params_[\"hidden_layer_sizes\"]\n",
    "print(\" Meilleur paramètre = %s\" % (logitopt.best_params_))\n",
    "\n",
    "\n",
    "pred = logitopt.predict (X_test)\n",
    "score = logitopt.score(X_test, y_test)\n",
    "proba = logitopt.predict_proba (X_test)\n",
    "\n"
   ]
  },
  {
   "cell_type": "code",
   "execution_count": 43,
   "metadata": {},
   "outputs": [],
   "source": [
    "result = proba[:,1]\n",
    "\n",
    "#on recupere dans prediction_indice les indices des lignes du dataframe test ou il y a la proba max \n",
    "prediction_indice = np.zeros(n_passes_test)\n",
    "for i in range(n_passes_test):\n",
    "    prediction_indice[i] = int(np.argmax(result[i*14 : (i+1) * 14 ]) + (i*14))\n",
    "\n",
    "\n",
    "X_test[\"receveur_potentiel\"] = vect_receveur_potentiel \n",
    "\n",
    "\n",
    "#on recupere dans prediction les receveurs potentiels qui ont le plus de chance de recevoir la passe  \n",
    "prediction = np.zeros(n_passes_test)\n",
    "count = 0\n",
    "for i in prediction_indice:\n",
    "    prediction[count] = X_test.iloc[int(i)][\"receveur_potentiel\"] \n",
    "    count += 1\n",
    "\n",
    "\n",
    "verif = np.zeros(len(prediction))\n",
    "for i in range(len(prediction)):\n",
    "    verif [i] = np.array(vect_vrai_receveur) [i*14]\n",
    "\n",
    "\n",
    "taux_reussite = np.mean ((verif - prediction)%14 == 0)"
   ]
  },
  {
   "cell_type": "code",
   "execution_count": 44,
   "metadata": {},
   "outputs": [
    {
     "data": {
      "text/plain": [
       "0.398406374501992"
      ]
     },
     "execution_count": 44,
     "metadata": {},
     "output_type": "execute_result"
    }
   ],
   "source": [
    "taux_reussite"
   ]
  },
  {
   "cell_type": "code",
   "execution_count": null,
   "metadata": {},
   "outputs": [],
   "source": []
  },
  {
   "cell_type": "code",
   "execution_count": null,
   "metadata": {},
   "outputs": [],
   "source": []
  },
  {
   "cell_type": "markdown",
   "metadata": {},
   "source": [
    "<font color='blue'>\n",
    "Autre solveur, plus simple et plus rapide."
   ]
  },
  {
   "cell_type": "code",
   "execution_count": 38,
   "metadata": {},
   "outputs": [
    {
     "name": "stdout",
     "output_type": "stream",
     "text": [
      " Meilleur paramètre = {'alpha': 0.001, 'hidden_layer_sizes': (7,)}\n"
     ]
    }
   ],
   "source": [
    "n_passes = 10039\n",
    "\n",
    "liste_passes_train = choice(range(1,n_passes+1), size = int(0.7 * n_passes), replace = False)\n",
    "liste_passes_train.sort()\n",
    "\n",
    "\n",
    "n_passes_train = int(0.7 * n_passes) \n",
    "n_passes_test = n_passes - n_passes_train\n",
    "#data = scaler.fit_transform (data) \n",
    "X_train = data [ data[\"passe_id\"].isin(liste_passes_train)]\n",
    "y_train = data [ data[\"passe_id\"].isin(liste_passes_train)] [\"passe\"]\n",
    "X_test = data [ ~data[\"passe_id\"].isin(liste_passes_train)]\n",
    "y_test = data [ ~data[\"passe_id\"].isin(liste_passes_train)] [\"passe\"]\n",
    "#X_train, X_test, y_train, y_test = train_test_split(data, Y, test_size=0.2, random_state=37)\n",
    "\n",
    "\n",
    "vect_receveur_potentiel = X_test[\"receveur_potentiel\"]\n",
    "vect_vrai_receveur = X_test [\"receiver_id\"]\n",
    "\n",
    "X_train = X_train.drop([\"passe\"], 1)\n",
    "X_train = X_train.drop([\"passe_id\"], 1)\n",
    "X_train = X_train.drop([\"receveur_potentiel\"], 1)\n",
    "X_train = X_train.drop([\"receiver_id\"], 1)\n",
    "\n",
    "X_test = X_test.drop([\"passe\"], 1)\n",
    "X_test = X_test.drop([\"passe_id\"], 1)\n",
    "X_test = X_test.drop([\"receveur_potentiel\"], 1)\n",
    "X_test = X_test.drop([\"receiver_id\"], 1)\n",
    "\n",
    "param = {\"hidden_layer_sizes\":list([(7,),(8,), (9,), (10,)]), 'alpha':[1e-05, 1e-04, 1e-03]}\n",
    "logit = GridSearchCV(MLPClassifier(solver = \"lbfgs\"), param, cv=5, n_jobs = -1)\n",
    "\n",
    "\n",
    "logitopt = logit.fit(X_train, y_train)\n",
    "\n",
    "#logitopt.best_params_[\"hidden_layer_sizes\", \"alpha\"]\n",
    "print(\" Meilleur paramètre = %s\" % (logitopt.best_params_))\n",
    "\n",
    "\n",
    "pred = logitopt.predict (X_test)\n",
    "score = logitopt.score(X_test, y_test)\n",
    "proba = logitopt.predict_proba (X_test)\n",
    "\n"
   ]
  },
  {
   "cell_type": "code",
   "execution_count": 40,
   "metadata": {},
   "outputs": [],
   "source": [
    "result = proba[:,1]\n",
    "\n",
    "#on recupere dans prediction_indice les indices des lignes du dataframe test ou il y a la proba max \n",
    "prediction_indice = np.zeros(n_passes_test)\n",
    "for i in range(n_passes_test):\n",
    "    prediction_indice[i] = int(np.argmax(result[i*14 : (i+1) * 14 ]) + (i*14))\n",
    "\n",
    "\n",
    "X_test[\"receveur_potentiel\"] = vect_receveur_potentiel \n",
    "\n",
    "\n",
    "#on recupere dans prediction les receveurs potentiels qui ont le plus de chance de recevoir la passe  \n",
    "prediction = np.zeros(n_passes_test)\n",
    "count = 0\n",
    "for i in prediction_indice:\n",
    "    prediction[count] = X_test.iloc[int(i)][\"receveur_potentiel\"] \n",
    "    count += 1\n",
    "\n",
    "\n",
    "verif = np.zeros(len(prediction))\n",
    "for i in range(len(prediction)):\n",
    "    verif [i] = np.array(vect_vrai_receveur) [i*14]\n",
    "\n",
    "\n",
    "taux_reussite = np.mean ((verif - prediction)%14 == 0)"
   ]
  },
  {
   "cell_type": "code",
   "execution_count": 41,
   "metadata": {},
   "outputs": [
    {
     "data": {
      "text/plain": [
       "0.06407702523240372"
      ]
     },
     "execution_count": 41,
     "metadata": {},
     "output_type": "execute_result"
    }
   ],
   "source": [
    "taux_reussite"
   ]
  },
  {
   "cell_type": "markdown",
   "metadata": {},
   "source": [
    "<font color='blue'>\n",
    "On essaye de construire des réseaux de neuronnes comme en HDDL "
   ]
  },
  {
   "cell_type": "markdown",
   "metadata": {},
   "source": []
  },
  {
   "cell_type": "code",
   "execution_count": null,
   "metadata": {},
   "outputs": [],
   "source": []
  },
  {
   "cell_type": "code",
   "execution_count": null,
   "metadata": {},
   "outputs": [],
   "source": []
  },
  {
   "cell_type": "code",
   "execution_count": null,
   "metadata": {},
   "outputs": [],
   "source": []
  },
  {
   "cell_type": "code",
   "execution_count": null,
   "metadata": {},
   "outputs": [],
   "source": []
  },
  {
   "cell_type": "code",
   "execution_count": null,
   "metadata": {},
   "outputs": [],
   "source": [
    "# Optimisation du paramètre de pénalisation\n",
    "# grille de valeurs\n",
    "param=[{\"C\":[1,1.2,1.5,1.7,2,3,4]}]\n",
    "logit = GridSearchCV(LogisticRegression(penalty=\"l1\",solver=\"liblinear\"), param,cv=5,n_jobs=-1)\n",
    "logitOpt=logit.fit(Xr_train, Yb_train)  # GridSearchCV est lui même un estimateur\n",
    "# paramètre optimal\n",
    "logitOpt.best_params_[\"C\"]\n",
    "print(\"Meilleur score = %f, Meilleur paramètre = %s\" % (1.-logitOpt.best_score_,logitOpt.best_params_))"
   ]
  }
 ],
 "metadata": {
  "kernelspec": {
   "display_name": "Python 3",
   "language": "python",
   "name": "python3"
  },
  "language_info": {
   "codemirror_mode": {
    "name": "ipython",
    "version": 3
   },
   "file_extension": ".py",
   "mimetype": "text/x-python",
   "name": "python",
   "nbconvert_exporter": "python",
   "pygments_lexer": "ipython3",
   "version": "3.6.8"
  }
 },
 "nbformat": 4,
 "nbformat_minor": 4
}
