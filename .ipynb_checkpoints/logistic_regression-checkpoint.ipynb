{
 "cells": [
  {
   "cell_type": "code",
   "execution_count": 1,
   "metadata": {},
   "outputs": [],
   "source": [
    "import os\n",
    "import numpy as np\n",
    "import pandas as pd\n",
    "import matplotlib.pyplot as plt\n",
    "from functions import *\n",
    "from Scores import *\n",
    "from create_dataframe import * \n",
    "from create_dataframe_regression import * \n",
    "import time "
   ]
  },
  {
   "cell_type": "code",
   "execution_count": 2,
   "metadata": {},
   "outputs": [],
   "source": [
    "#ON VA APPRENDRE SUR LES 8031 PREMIERES PASSES ET PREVOIR SUR LES 2008 AUTRES"
   ]
  },
  {
   "cell_type": "code",
   "execution_count": 3,
   "metadata": {},
   "outputs": [],
   "source": [
    "data = pd.read_csv(\"dataframe_regression.csv\")\n",
    "data  = data.sort_values(\"passe_id\")"
   ]
  },
  {
   "cell_type": "code",
   "execution_count": 4,
   "metadata": {},
   "outputs": [],
   "source": [
    "col = data.columns.tolist()\n",
    "col = col[1:]\n",
    "data = data[col]"
   ]
  },
  {
   "cell_type": "code",
   "execution_count": 5,
   "metadata": {},
   "outputs": [],
   "source": [
    "Y = data[\"passe\"]\n",
    "data = data.drop([\"passe\"], 1)\n",
    "data = data.drop([\"receiver_id\"], 1)"
   ]
  },
  {
   "cell_type": "code",
   "execution_count": 6,
   "metadata": {},
   "outputs": [],
   "source": [
    "from sklearn.model_selection import train_test_split\n",
    "from sklearn.linear_model import LogisticRegression\n",
    "from sklearn.preprocessing import StandardScaler\n",
    " \n",
    "#scaler = StandardScaler()\n",
    "method = LogisticRegression()\n",
    "\n",
    "n_passes = 10039\n",
    "n_passes_train = int(0.7*n_passes) \n",
    "n_passes_test = n_passes - n_passes_train\n",
    "\n",
    "#data = scaler.fit_transform (data) \n",
    "X_train = data [:(n_passes_train*14)]\n",
    "y_train = Y[:(n_passes_train*14)]\n",
    "X_test = data [(n_passes_train*14):]\n",
    "y_test = Y[(n_passes_train*14):]\n",
    "#X_train, X_test, y_train, y_test = train_test_split(data, Y, test_size=0.2, random_state=37)"
   ]
  },
  {
   "cell_type": "code",
   "execution_count": 7,
   "metadata": {},
   "outputs": [
    {
     "data": {
      "text/plain": [
       "0.9310140390817682"
      ]
     },
     "execution_count": 7,
     "metadata": {},
     "output_type": "execute_result"
    }
   ],
   "source": [
    "method.fit(X_train, y_train)\n",
    "proba = method.predict_proba (X_test)\n",
    "pred = method.predict (X_test)\n",
    "score = method.score(X_test, y_test)\n",
    "score"
   ]
  },
  {
   "cell_type": "code",
   "execution_count": 8,
   "metadata": {},
   "outputs": [
    {
     "data": {
      "text/plain": [
       "247"
      ]
     },
     "execution_count": 8,
     "metadata": {},
     "output_type": "execute_result"
    }
   ],
   "source": [
    "np.sum(pred)"
   ]
  },
  {
   "cell_type": "code",
   "execution_count": 9,
   "metadata": {},
   "outputs": [
    {
     "data": {
      "text/plain": [
       "2888"
      ]
     },
     "execution_count": 9,
     "metadata": {},
     "output_type": "execute_result"
    }
   ],
   "source": [
    "np.sum(y_test)"
   ]
  },
  {
   "cell_type": "code",
   "execution_count": 10,
   "metadata": {},
   "outputs": [],
   "source": [
    "#on recupere dans result toutes les probas de prédire une passe \n",
    "result = np.zeros(len(proba))\n",
    "for i in range(len(proba)):\n",
    "    result[i] = proba[i][1]"
   ]
  },
  {
   "cell_type": "code",
   "execution_count": 11,
   "metadata": {},
   "outputs": [],
   "source": [
    "#on recupere dans prediction_indice les indices des lignes du dataframe test ou il y a la proba max \n",
    "prediction_indice = np.zeros(n_passes_test)\n",
    "for i in range(n_passes_test):\n",
    "    prediction_indice[i] = int(np.argmax(result[i*14 + 1 : (i+1) * 14 + 1]) + (i*14 + 1))"
   ]
  },
  {
   "cell_type": "code",
   "execution_count": 12,
   "metadata": {},
   "outputs": [
    {
     "data": {
      "text/plain": [
       "array([1.3000e+01, 2.7000e+01, 3.4000e+01, ..., 4.2136e+04, 4.2142e+04,\n",
       "       4.2165e+04])"
      ]
     },
     "execution_count": 12,
     "metadata": {},
     "output_type": "execute_result"
    }
   ],
   "source": [
    "prediction_indice"
   ]
  },
  {
   "cell_type": "code",
   "execution_count": 13,
   "metadata": {},
   "outputs": [],
   "source": [
    "#on recupere dans prediction les receveurs potentiels qui ont le plus de chance de recevoir la passe  \n",
    "prediction = np.zeros(n_passes_test)\n",
    "count = 0\n",
    "for i in prediction_indice:\n",
    "    prediction[count] = X_test.iloc[int(i)][\"receveur_potentiel\"] \n",
    "    count += 1"
   ]
  },
  {
   "cell_type": "code",
   "execution_count": 14,
   "metadata": {},
   "outputs": [
    {
     "data": {
      "text/plain": [
       "array([11.,  3.,  3., ..., 13.,  3.,  1.])"
      ]
     },
     "execution_count": 14,
     "metadata": {},
     "output_type": "execute_result"
    }
   ],
   "source": [
    "prediction"
   ]
  },
  {
   "cell_type": "code",
   "execution_count": 15,
   "metadata": {},
   "outputs": [
    {
     "data": {
      "text/plain": [
       "0.20252324037184594"
      ]
     },
     "execution_count": 15,
     "metadata": {},
     "output_type": "execute_result"
    }
   ],
   "source": [
    "verif = pd.read_csv(\"dataframe.csv\")\n",
    "verif = verif [n_passes_train:]\n",
    "taux_reussite = np.mean ((verif[\"receiver_id\"] - prediction) == 0%14)\n",
    "taux_reussite"
   ]
  }
 ],
 "metadata": {
  "kernelspec": {
   "display_name": "Python 3",
   "language": "python",
   "name": "python3"
  },
  "language_info": {
   "codemirror_mode": {
    "name": "ipython",
    "version": 3
   },
   "file_extension": ".py",
   "mimetype": "text/x-python",
   "name": "python",
   "nbconvert_exporter": "python",
   "pygments_lexer": "ipython3",
   "version": "3.6.8"
  }
 },
 "nbformat": 4,
 "nbformat_minor": 2
}
