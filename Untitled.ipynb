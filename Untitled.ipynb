{
 "cells": [
  {
   "cell_type": "code",
   "execution_count": 1,
   "metadata": {},
   "outputs": [],
   "source": [
    "import os\n",
    "import numpy as np\n",
    "import pandas as pd\n",
    "import matplotlib.pyplot as plt\n",
    "from functions import *\n",
    "from Scores import *\n",
    "from create_dataframe import * \n",
    "from create_dataframe_regression import * \n",
    "from logistic_regression import *\n",
    "from numpy.random import *\n",
    "import time \n",
    "import warnings\n",
    "warnings.filterwarnings(\"ignore\")\n"
   ]
  },
  {
   "cell_type": "markdown",
   "metadata": {},
   "source": [
    "<font color = 'blue'>\n",
    " Ici on teste d'optimiser le paramètre C avec une contrainte l1"
   ]
  },
  {
   "cell_type": "code",
   "execution_count": 2,
   "metadata": {},
   "outputs": [],
   "source": [
    "from sklearn.model_selection import train_test_split\n",
    "from sklearn.linear_model import LogisticRegression\n",
    "from sklearn.preprocessing import StandardScaler\n",
    "from sklearn.model_selection import GridSearchCV"
   ]
  },
  {
   "cell_type": "code",
   "execution_count": 29,
   "metadata": {},
   "outputs": [],
   "source": [
    "data = pd.read_csv(\"dataframe_regression.csv\")\n",
    "data  = data.sort_values([\"passe_id\", \"receveur_potentiel\"]).reset_index().drop([\"index\"], axis = 1)\n",
    "data.drop([\"Unnamed: 0\"], axis = 1)\n",
    "\n",
    "col = data.columns.tolist()\n",
    "col = col[1:]\n",
    "data = data[col]\n",
    "data = data.drop([\"sender_id\"], 1)\n",
    "data = data.drop([\"premiere_distance_sender\"], 1)\n",
    "data= data.drop([\"seconde_distance_sender\"], 1)\n",
    "\n"
   ]
  },
  {
   "cell_type": "code",
   "execution_count": 30,
   "metadata": {},
   "outputs": [
    {
     "name": "stdout",
     "output_type": "stream",
     "text": [
      " Meilleur paramètre = {'C': 4.2}\n"
     ]
    }
   ],
   "source": [
    "n_passes = 10039\n",
    "\n",
    "liste_passes_train = choice(range(1,n_passes+1), size = int(0.7 * n_passes), replace = False)\n",
    "liste_passes_train.sort()\n",
    "\n",
    "\n",
    "n_passes_train = int(0.7 * n_passes) \n",
    "n_passes_test = n_passes - n_passes_train\n",
    "#data = scaler.fit_transform (data) \n",
    "X_train = data [ data[\"passe_id\"].isin(liste_passes_train)]\n",
    "y_train = data [ data[\"passe_id\"].isin(liste_passes_train)] [\"passe\"]\n",
    "X_test = data [ ~data[\"passe_id\"].isin(liste_passes_train)]\n",
    "y_test = data [ ~data[\"passe_id\"].isin(liste_passes_train)] [\"passe\"]\n",
    "#X_train, X_test, y_train, y_test = train_test_split(data, Y, test_size=0.2, random_state=37)\n",
    "\n",
    "\n",
    "vect_receveur_potentiel = X_test[\"receveur_potentiel\"]\n",
    "vect_vrai_receveur = X_test [\"receiver_id\"]\n",
    "\n",
    "X_train = X_train.drop([\"passe\"], 1)\n",
    "X_train = X_train.drop([\"passe_id\"], 1)\n",
    "X_train = X_train.drop([\"receveur_potentiel\"], 1)\n",
    "X_train = X_train.drop([\"receiver_id\"], 1)\n",
    "\n",
    "X_test = X_test.drop([\"passe\"], 1)\n",
    "X_test = X_test.drop([\"passe_id\"], 1)\n",
    "X_test = X_test.drop([\"receveur_potentiel\"], 1)\n",
    "X_test = X_test.drop([\"receiver_id\"], 1)\n",
    "\n",
    "\n",
    "param=[{\"C\":[3.5,3.8,4,4.2,4.5,4.7,5,5.2,5.4, 5.7]}]\n",
    "logit = GridSearchCV(LogisticRegression(penalty=\"l1\"), param, cv=5)\n",
    "\n",
    "\n",
    "\n",
    "logitopt = logit.fit(X_train, y_train)\n",
    "proba = logitopt.predict_proba (X_test)\n",
    "pred = logitopt.predict (X_test)\n",
    "score = logitopt.score(X_test, y_test)\n",
    "\n",
    "logitopt.best_params_[\"C\"]\n",
    "print(\" Meilleur paramètre = %s\" % (logitopt.best_params_))"
   ]
  },
  {
   "cell_type": "code",
   "execution_count": 31,
   "metadata": {},
   "outputs": [],
   "source": [
    "result = proba[:,1]\n",
    "\n",
    "#on recupere dans prediction_indice les indices des lignes du dataframe test ou il y a la proba max \n",
    "prediction_indice = np.zeros(n_passes_test)\n",
    "for i in range(n_passes_test):\n",
    "    prediction_indice[i] = int(np.argmax(result[i*14 : (i+1) * 14 ]) + (i*14))\n",
    "\n",
    "\n",
    "X_test[\"receveur_potentiel\"] = vect_receveur_potentiel \n",
    "\n",
    "\n",
    "#on recupere dans prediction les receveurs potentiels qui ont le plus de chance de recevoir la passe  \n",
    "prediction = np.zeros(n_passes_test)\n",
    "count = 0\n",
    "for i in prediction_indice:\n",
    "    prediction[count] = X_test.iloc[int(i)][\"receveur_potentiel\"] \n",
    "    count += 1\n",
    "\n",
    "\n",
    "verif = np.zeros(len(prediction))\n",
    "for i in range(len(prediction)):\n",
    "    verif [i] = np.array(vect_vrai_receveur) [i*14]\n",
    "\n",
    "\n",
    "taux_reussite = np.mean ((verif - prediction)%14 == 0)"
   ]
  },
  {
   "cell_type": "code",
   "execution_count": 32,
   "metadata": {},
   "outputs": [
    {
     "data": {
      "text/plain": [
       "0.42231075697211157"
      ]
     },
     "execution_count": 32,
     "metadata": {},
     "output_type": "execute_result"
    }
   ],
   "source": [
    "taux_reussite"
   ]
  },
  {
   "cell_type": "markdown",
   "metadata": {},
   "source": [
    "<font color = 'blue'>\n",
    " Ici on teste d'optimiser le paramètre C avec une contrainte l2"
   ]
  },
  {
   "cell_type": "code",
   "execution_count": 26,
   "metadata": {},
   "outputs": [
    {
     "name": "stdout",
     "output_type": "stream",
     "text": [
      " Meilleur paramètre = {'C': 1e-06}\n"
     ]
    }
   ],
   "source": [
    "n_passes = 10039\n",
    "\n",
    "liste_passes_train = choice(range(1,n_passes+1), size = int(0.7 * n_passes), replace = False)\n",
    "liste_passes_train.sort()\n",
    "\n",
    "\n",
    "n_passes_train = int(0.7 * n_passes) \n",
    "n_passes_test = n_passes - n_passes_train\n",
    "#data = scaler.fit_transform (data) \n",
    "X_train = data [ data[\"passe_id\"].isin(liste_passes_train)]\n",
    "y_train = data [ data[\"passe_id\"].isin(liste_passes_train)] [\"passe\"]\n",
    "X_test = data [ ~data[\"passe_id\"].isin(liste_passes_train)]\n",
    "y_test = data [ ~data[\"passe_id\"].isin(liste_passes_train)] [\"passe\"]\n",
    "#X_train, X_test, y_train, y_test = train_test_split(data, Y, test_size=0.2, random_state=37)\n",
    "\n",
    "\n",
    "vect_receveur_potentiel = X_test[\"receveur_potentiel\"]\n",
    "vect_vrai_receveur = X_test [\"receiver_id\"]\n",
    "\n",
    "X_train = X_train.drop([\"passe\"], 1)\n",
    "X_train = X_train.drop([\"passe_id\"], 1)\n",
    "X_train = X_train.drop([\"receveur_potentiel\"], 1)\n",
    "X_train = X_train.drop([\"receiver_id\"], 1)\n",
    "\n",
    "X_test = X_test.drop([\"passe\"], 1)\n",
    "X_test = X_test.drop([\"passe_id\"], 1)\n",
    "X_test = X_test.drop([\"receveur_potentiel\"], 1)\n",
    "X_test = X_test.drop([\"receiver_id\"], 1)\n",
    "\n",
    "\n",
    "param=[{\"C\":[1e-07, 1e-06, 0.00001, 0.0001, 0.001]}]\n",
    "logit = GridSearchCV(LogisticRegression(penalty=\"l2\"), param, cv=5)\n",
    "\n",
    "\n",
    "\n",
    "logitopt = logit.fit(X_train, y_train)\n",
    "proba = logitopt.predict_proba (X_test)\n",
    "pred = logitopt.predict (X_test)\n",
    "score = logitopt.score(X_test, y_test)\n",
    "\n",
    "logitopt.best_params_[\"C\"]\n",
    "print(\" Meilleur paramètre = %s\" % (logitopt.best_params_))"
   ]
  },
  {
   "cell_type": "code",
   "execution_count": 27,
   "metadata": {},
   "outputs": [],
   "source": [
    "result = proba[:,1]\n",
    "\n",
    "#on recupere dans prediction_indice les indices des lignes du dataframe test ou il y a la proba max \n",
    "prediction_indice = np.zeros(n_passes_test)\n",
    "for i in range(n_passes_test):\n",
    "    prediction_indice[i] = int(np.argmax(result[i*14 : (i+1) * 14 ]) + (i*14))\n",
    "\n",
    "\n",
    "X_test[\"receveur_potentiel\"] = vect_receveur_potentiel \n",
    "\n",
    "\n",
    "#on recupere dans prediction les receveurs potentiels qui ont le plus de chance de recevoir la passe  \n",
    "prediction = np.zeros(n_passes_test)\n",
    "count = 0\n",
    "for i in prediction_indice:\n",
    "    prediction[count] = X_test.iloc[int(i)][\"receveur_potentiel\"] \n",
    "    count += 1\n",
    "\n",
    "\n",
    "verif = np.zeros(len(prediction))\n",
    "for i in range(len(prediction)):\n",
    "    verif [i] = np.array(vect_vrai_receveur) [i*14]\n",
    "\n",
    "\n",
    "taux_reussite = np.mean ((verif - prediction)%14 == 0)"
   ]
  },
  {
   "cell_type": "code",
   "execution_count": 28,
   "metadata": {},
   "outputs": [
    {
     "data": {
      "text/plain": [
       "0.41832669322709165"
      ]
     },
     "execution_count": 28,
     "metadata": {},
     "output_type": "execute_result"
    }
   ],
   "source": [
    "taux_reussite"
   ]
  },
  {
   "cell_type": "markdown",
   "metadata": {},
   "source": []
  },
  {
   "cell_type": "markdown",
   "metadata": {},
   "source": [
    "<font color = 'blue'>\n",
    "Ici on tente le random forest "
   ]
  },
  {
   "cell_type": "code",
   "execution_count": null,
   "metadata": {},
   "outputs": [],
   "source": []
  },
  {
   "cell_type": "code",
   "execution_count": null,
   "metadata": {},
   "outputs": [],
   "source": [
    "# Optimisation du paramètre de pénalisation\n",
    "# grille de valeurs\n",
    "param=[{\"C\":[1,1.2,1.5,1.7,2,3,4]}]\n",
    "logit = GridSearchCV(LogisticRegression(penalty=\"l1\",solver=\"liblinear\"), param,cv=5,n_jobs=-1)\n",
    "logitOpt=logit.fit(Xr_train, Yb_train)  # GridSearchCV est lui même un estimateur\n",
    "# paramètre optimal\n",
    "logitOpt.best_params_[\"C\"]\n",
    "print(\"Meilleur score = %f, Meilleur paramètre = %s\" % (1.-logitOpt.best_score_,logitOpt.best_params_))"
   ]
  }
 ],
 "metadata": {
  "kernelspec": {
   "display_name": "Python 3",
   "language": "python",
   "name": "python3"
  },
  "language_info": {
   "codemirror_mode": {
    "name": "ipython",
    "version": 3
   },
   "file_extension": ".py",
   "mimetype": "text/x-python",
   "name": "python",
   "nbconvert_exporter": "python",
   "pygments_lexer": "ipython3",
   "version": "3.7.3"
  }
 },
 "nbformat": 4,
 "nbformat_minor": 4
}
