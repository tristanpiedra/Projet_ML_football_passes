{
 "cells": [
  {
   "cell_type": "code",
   "execution_count": 1,
   "metadata": {},
   "outputs": [],
   "source": [
    "import os\n",
    "import numpy as np\n",
    "import pandas as pd\n",
    "import matplotlib.pyplot as plt\n",
    "from functions import *\n",
    "from Scores import *\n",
    "from create_dataframe import *\n",
    "from create_dataframe_regression import * \n",
    "from logistic_regression import *\n",
    "import time\n",
    "import warnings\n",
    "warnings.filterwarnings(\"ignore\")\n",
    "from Random_forest import *\n",
    "from logistic_regression_optimise import * \n"
   ]
  },
  {
   "cell_type": "code",
   "execution_count": 24,
   "metadata": {},
   "outputs": [
    {
     "data": {
      "text/html": [
       "<div>\n",
       "<style scoped>\n",
       "    .dataframe tbody tr th:only-of-type {\n",
       "        vertical-align: middle;\n",
       "    }\n",
       "\n",
       "    .dataframe tbody tr th {\n",
       "        vertical-align: top;\n",
       "    }\n",
       "\n",
       "    .dataframe thead th {\n",
       "        text-align: right;\n",
       "    }\n",
       "</style>\n",
       "<table border=\"1\" class=\"dataframe\">\n",
       "  <thead>\n",
       "    <tr style=\"text-align: right;\">\n",
       "      <th></th>\n",
       "      <th>time_start</th>\n",
       "      <th>time_end</th>\n",
       "      <th>sender_id</th>\n",
       "      <th>receiver_id</th>\n",
       "      <th>x_1</th>\n",
       "      <th>x_2</th>\n",
       "      <th>x_3</th>\n",
       "      <th>x_4</th>\n",
       "      <th>x_5</th>\n",
       "      <th>x_6</th>\n",
       "      <th>...</th>\n",
       "      <th>Score3Teamate_13</th>\n",
       "      <th>Score4Teamate_13</th>\n",
       "      <th>Score1Teamate_14</th>\n",
       "      <th>Score2Teamate_14</th>\n",
       "      <th>Score3Teamate_14</th>\n",
       "      <th>Score4Teamate_14</th>\n",
       "      <th>predic1</th>\n",
       "      <th>predic2</th>\n",
       "      <th>predic3</th>\n",
       "      <th>predic4</th>\n",
       "    </tr>\n",
       "  </thead>\n",
       "  <tbody>\n",
       "    <tr>\n",
       "      <td>0</td>\n",
       "      <td>1396100</td>\n",
       "      <td>1397300</td>\n",
       "      <td>26</td>\n",
       "      <td>18</td>\n",
       "      <td>890.0</td>\n",
       "      <td>830.0</td>\n",
       "      <td>1610.0</td>\n",
       "      <td>100000.0</td>\n",
       "      <td>310.0</td>\n",
       "      <td>310.0</td>\n",
       "      <td>...</td>\n",
       "      <td>142305.663246</td>\n",
       "      <td>152295.663246</td>\n",
       "      <td>2183.437657</td>\n",
       "      <td>2183.437657</td>\n",
       "      <td>2183.437657</td>\n",
       "      <td>2348.437657</td>\n",
       "      <td>21</td>\n",
       "      <td>21</td>\n",
       "      <td>21</td>\n",
       "      <td>21</td>\n",
       "    </tr>\n",
       "    <tr>\n",
       "      <td>1</td>\n",
       "      <td>78900</td>\n",
       "      <td>81100</td>\n",
       "      <td>11</td>\n",
       "      <td>14</td>\n",
       "      <td>3070.0</td>\n",
       "      <td>100000.0</td>\n",
       "      <td>940.0</td>\n",
       "      <td>4450.0</td>\n",
       "      <td>1460.0</td>\n",
       "      <td>1680.0</td>\n",
       "      <td>...</td>\n",
       "      <td>139292.295044</td>\n",
       "      <td>110534.295044</td>\n",
       "      <td>3264.414189</td>\n",
       "      <td>3264.414189</td>\n",
       "      <td>3264.414189</td>\n",
       "      <td>2490.414189</td>\n",
       "      <td>9</td>\n",
       "      <td>9</td>\n",
       "      <td>9</td>\n",
       "      <td>9</td>\n",
       "    </tr>\n",
       "    <tr>\n",
       "      <td>2</td>\n",
       "      <td>36600</td>\n",
       "      <td>37300</td>\n",
       "      <td>4</td>\n",
       "      <td>10</td>\n",
       "      <td>-180.0</td>\n",
       "      <td>100000.0</td>\n",
       "      <td>-1440.0</td>\n",
       "      <td>-160.0</td>\n",
       "      <td>-1370.0</td>\n",
       "      <td>-1140.0</td>\n",
       "      <td>...</td>\n",
       "      <td>140853.014639</td>\n",
       "      <td>110805.014639</td>\n",
       "      <td>3821.544191</td>\n",
       "      <td>4721.544191</td>\n",
       "      <td>4721.544191</td>\n",
       "      <td>4148.544191</td>\n",
       "      <td>10</td>\n",
       "      <td>7</td>\n",
       "      <td>7</td>\n",
       "      <td>7</td>\n",
       "    </tr>\n",
       "    <tr>\n",
       "      <td>3</td>\n",
       "      <td>370300</td>\n",
       "      <td>371300</td>\n",
       "      <td>12</td>\n",
       "      <td>7</td>\n",
       "      <td>-950.0</td>\n",
       "      <td>-1140.0</td>\n",
       "      <td>1110.0</td>\n",
       "      <td>100000.0</td>\n",
       "      <td>-310.0</td>\n",
       "      <td>-2210.0</td>\n",
       "      <td>...</td>\n",
       "      <td>2124.264579</td>\n",
       "      <td>2010.264579</td>\n",
       "      <td>141488.121410</td>\n",
       "      <td>142388.121410</td>\n",
       "      <td>142443.121410</td>\n",
       "      <td>112230.121410</td>\n",
       "      <td>1</td>\n",
       "      <td>7</td>\n",
       "      <td>7</td>\n",
       "      <td>7</td>\n",
       "    </tr>\n",
       "    <tr>\n",
       "      <td>4</td>\n",
       "      <td>600</td>\n",
       "      <td>1400</td>\n",
       "      <td>15</td>\n",
       "      <td>24</td>\n",
       "      <td>-880.0</td>\n",
       "      <td>-930.0</td>\n",
       "      <td>-1460.0</td>\n",
       "      <td>150.0</td>\n",
       "      <td>-740.0</td>\n",
       "      <td>-110.0</td>\n",
       "      <td>...</td>\n",
       "      <td>3049.098227</td>\n",
       "      <td>2680.098227</td>\n",
       "      <td>141421.356237</td>\n",
       "      <td>142321.356237</td>\n",
       "      <td>142376.356237</td>\n",
       "      <td>112376.356237</td>\n",
       "      <td>24</td>\n",
       "      <td>22</td>\n",
       "      <td>22</td>\n",
       "      <td>22</td>\n",
       "    </tr>\n",
       "    <tr>\n",
       "      <td>...</td>\n",
       "      <td>...</td>\n",
       "      <td>...</td>\n",
       "      <td>...</td>\n",
       "      <td>...</td>\n",
       "      <td>...</td>\n",
       "      <td>...</td>\n",
       "      <td>...</td>\n",
       "      <td>...</td>\n",
       "      <td>...</td>\n",
       "      <td>...</td>\n",
       "      <td>...</td>\n",
       "      <td>...</td>\n",
       "      <td>...</td>\n",
       "      <td>...</td>\n",
       "      <td>...</td>\n",
       "      <td>...</td>\n",
       "      <td>...</td>\n",
       "      <td>...</td>\n",
       "      <td>...</td>\n",
       "      <td>...</td>\n",
       "      <td>...</td>\n",
       "    </tr>\n",
       "    <tr>\n",
       "      <td>10034</td>\n",
       "      <td>504500</td>\n",
       "      <td>506200</td>\n",
       "      <td>7</td>\n",
       "      <td>11</td>\n",
       "      <td>-2200.0</td>\n",
       "      <td>-820.0</td>\n",
       "      <td>100000.0</td>\n",
       "      <td>-1070.0</td>\n",
       "      <td>500.0</td>\n",
       "      <td>-990.0</td>\n",
       "      <td>...</td>\n",
       "      <td>6085.597752</td>\n",
       "      <td>4876.597752</td>\n",
       "      <td>141995.144283</td>\n",
       "      <td>142895.144283</td>\n",
       "      <td>142950.144283</td>\n",
       "      <td>111933.144283</td>\n",
       "      <td>8</td>\n",
       "      <td>8</td>\n",
       "      <td>8</td>\n",
       "      <td>8</td>\n",
       "    </tr>\n",
       "    <tr>\n",
       "      <td>10035</td>\n",
       "      <td>1157000</td>\n",
       "      <td>1159100</td>\n",
       "      <td>17</td>\n",
       "      <td>16</td>\n",
       "      <td>-750.0</td>\n",
       "      <td>-140.0</td>\n",
       "      <td>840.0</td>\n",
       "      <td>670.0</td>\n",
       "      <td>-2530.0</td>\n",
       "      <td>100000.0</td>\n",
       "      <td>...</td>\n",
       "      <td>4544.077387</td>\n",
       "      <td>3743.077387</td>\n",
       "      <td>144091.317226</td>\n",
       "      <td>144991.317226</td>\n",
       "      <td>145046.317226</td>\n",
       "      <td>114248.317226</td>\n",
       "      <td>22</td>\n",
       "      <td>22</td>\n",
       "      <td>22</td>\n",
       "      <td>22</td>\n",
       "    </tr>\n",
       "    <tr>\n",
       "      <td>10036</td>\n",
       "      <td>700</td>\n",
       "      <td>1100</td>\n",
       "      <td>16</td>\n",
       "      <td>27</td>\n",
       "      <td>-1210.0</td>\n",
       "      <td>-830.0</td>\n",
       "      <td>-800.0</td>\n",
       "      <td>-410.0</td>\n",
       "      <td>-1790.0</td>\n",
       "      <td>-240.0</td>\n",
       "      <td>...</td>\n",
       "      <td>260.000000</td>\n",
       "      <td>260.000000</td>\n",
       "      <td>927.793080</td>\n",
       "      <td>927.793080</td>\n",
       "      <td>927.793080</td>\n",
       "      <td>651.793080</td>\n",
       "      <td>27</td>\n",
       "      <td>27</td>\n",
       "      <td>27</td>\n",
       "      <td>27</td>\n",
       "    </tr>\n",
       "    <tr>\n",
       "      <td>10037</td>\n",
       "      <td>2074300</td>\n",
       "      <td>2075100</td>\n",
       "      <td>27</td>\n",
       "      <td>21</td>\n",
       "      <td>750.0</td>\n",
       "      <td>430.0</td>\n",
       "      <td>1620.0</td>\n",
       "      <td>100000.0</td>\n",
       "      <td>100000.0</td>\n",
       "      <td>-1160.0</td>\n",
       "      <td>...</td>\n",
       "      <td>100000.000000</td>\n",
       "      <td>100000.000000</td>\n",
       "      <td>4481.539914</td>\n",
       "      <td>5381.539914</td>\n",
       "      <td>5381.539914</td>\n",
       "      <td>4724.539914</td>\n",
       "      <td>17</td>\n",
       "      <td>17</td>\n",
       "      <td>17</td>\n",
       "      <td>18</td>\n",
       "    </tr>\n",
       "    <tr>\n",
       "      <td>10038</td>\n",
       "      <td>1799900</td>\n",
       "      <td>1801500</td>\n",
       "      <td>3</td>\n",
       "      <td>1</td>\n",
       "      <td>-180.0</td>\n",
       "      <td>-620.0</td>\n",
       "      <td>590.0</td>\n",
       "      <td>-1780.0</td>\n",
       "      <td>100000.0</td>\n",
       "      <td>1540.0</td>\n",
       "      <td>...</td>\n",
       "      <td>144146.171865</td>\n",
       "      <td>114323.171865</td>\n",
       "      <td>3013.254055</td>\n",
       "      <td>3913.254055</td>\n",
       "      <td>3913.254055</td>\n",
       "      <td>3871.254055</td>\n",
       "      <td>1</td>\n",
       "      <td>1</td>\n",
       "      <td>1</td>\n",
       "      <td>1</td>\n",
       "    </tr>\n",
       "  </tbody>\n",
       "</table>\n",
       "<p>10039 rows × 181 columns</p>\n",
       "</div>"
      ],
      "text/plain": [
       "       time_start  time_end  sender_id  receiver_id     x_1       x_2  \\\n",
       "0         1396100   1397300         26           18   890.0     830.0   \n",
       "1           78900     81100         11           14  3070.0  100000.0   \n",
       "2           36600     37300          4           10  -180.0  100000.0   \n",
       "3          370300    371300         12            7  -950.0   -1140.0   \n",
       "4             600      1400         15           24  -880.0    -930.0   \n",
       "...           ...       ...        ...          ...     ...       ...   \n",
       "10034      504500    506200          7           11 -2200.0    -820.0   \n",
       "10035     1157000   1159100         17           16  -750.0    -140.0   \n",
       "10036         700      1100         16           27 -1210.0    -830.0   \n",
       "10037     2074300   2075100         27           21   750.0     430.0   \n",
       "10038     1799900   1801500          3            1  -180.0    -620.0   \n",
       "\n",
       "            x_3       x_4       x_5       x_6  ...  Score3Teamate_13  \\\n",
       "0        1610.0  100000.0     310.0     310.0  ...     142305.663246   \n",
       "1         940.0    4450.0    1460.0    1680.0  ...     139292.295044   \n",
       "2       -1440.0    -160.0   -1370.0   -1140.0  ...     140853.014639   \n",
       "3        1110.0  100000.0    -310.0   -2210.0  ...       2124.264579   \n",
       "4       -1460.0     150.0    -740.0    -110.0  ...       3049.098227   \n",
       "...         ...       ...       ...       ...  ...               ...   \n",
       "10034  100000.0   -1070.0     500.0    -990.0  ...       6085.597752   \n",
       "10035     840.0     670.0   -2530.0  100000.0  ...       4544.077387   \n",
       "10036    -800.0    -410.0   -1790.0    -240.0  ...        260.000000   \n",
       "10037    1620.0  100000.0  100000.0   -1160.0  ...     100000.000000   \n",
       "10038     590.0   -1780.0  100000.0    1540.0  ...     144146.171865   \n",
       "\n",
       "       Score4Teamate_13  Score1Teamate_14  Score2Teamate_14  Score3Teamate_14  \\\n",
       "0         152295.663246       2183.437657       2183.437657       2183.437657   \n",
       "1         110534.295044       3264.414189       3264.414189       3264.414189   \n",
       "2         110805.014639       3821.544191       4721.544191       4721.544191   \n",
       "3           2010.264579     141488.121410     142388.121410     142443.121410   \n",
       "4           2680.098227     141421.356237     142321.356237     142376.356237   \n",
       "...                 ...               ...               ...               ...   \n",
       "10034       4876.597752     141995.144283     142895.144283     142950.144283   \n",
       "10035       3743.077387     144091.317226     144991.317226     145046.317226   \n",
       "10036        260.000000        927.793080        927.793080        927.793080   \n",
       "10037     100000.000000       4481.539914       5381.539914       5381.539914   \n",
       "10038     114323.171865       3013.254055       3913.254055       3913.254055   \n",
       "\n",
       "       Score4Teamate_14  predic1  predic2  predic3  predic4  \n",
       "0           2348.437657       21       21       21       21  \n",
       "1           2490.414189        9        9        9        9  \n",
       "2           4148.544191       10        7        7        7  \n",
       "3         112230.121410        1        7        7        7  \n",
       "4         112376.356237       24       22       22       22  \n",
       "...                 ...      ...      ...      ...      ...  \n",
       "10034     111933.144283        8        8        8        8  \n",
       "10035     114248.317226       22       22       22       22  \n",
       "10036        651.793080       27       27       27       27  \n",
       "10037       4724.539914       17       17       17       18  \n",
       "10038       3871.254055        1        1        1        1  \n",
       "\n",
       "[10039 rows x 181 columns]"
      ]
     },
     "execution_count": 24,
     "metadata": {},
     "output_type": "execute_result"
    }
   ],
   "source": [
    "df = pd.read_csv(\"dataframe.csv\")\n",
    "df = df.drop([\"Unnamed: 0\"], axis = 1)\n",
    "df"
   ]
  },
  {
   "cell_type": "markdown",
   "metadata": {},
   "source": [
    "<font color='blue'>\n",
    "On regarde ce que nous renvoie notre fonction directionPasse"
   ]
  },
  {
   "cell_type": "code",
   "execution_count": 29,
   "metadata": {},
   "outputs": [
    {
     "name": "stdout",
     "output_type": "stream",
     "text": [
      "Backward\n"
     ]
    },
    {
     "data": {
      "image/png": "[encoded data removed]",
      "text/plain": [
       "<Figure size 432x288 with 1 Axes>"
      ]
     },
     "metadata": {
      "needs_background": "light"
     },
     "output_type": "display_data"
    },
    {
     "name": "stdout",
     "output_type": "stream",
     "text": [
      "Forward\n"
     ]
    },
    {
     "data": {
      "image/png": "[encoded data removed]",
      "text/plain": [
       "<Figure size 432x288 with 1 Axes>"
      ]
     },
     "metadata": {
      "needs_background": "light"
     },
     "output_type": "display_data"
    },
    {
     "name": "stdout",
     "output_type": "stream",
     "text": [
      "Forward\n"
     ]
    },
    {
     "data": {
      "image/png": "[encoded data removed]",
      "text/plain": [
       "<Figure size 432x288 with 1 Axes>"
      ]
     },
     "metadata": {
      "needs_background": "light"
     },
     "output_type": "display_data"
    },
    {
     "name": "stdout",
     "output_type": "stream",
     "text": [
      "Forward\n"
     ]
    },
    {
     "data": {
      "image/png": "[encoded data removed]",
      "text/plain": [
       "<Figure size 432x288 with 1 Axes>"
      ]
     },
     "metadata": {
      "needs_background": "light"
     },
     "output_type": "display_data"
    },
    {
     "name": "stdout",
     "output_type": "stream",
     "text": [
      "Forward\n"
     ]
    },
    {
     "data": {
      "image/png": "[encoded data removed]",
      "text/plain": [
       "<Figure size 432x288 with 1 Axes>"
      ]
     },
     "metadata": {
      "needs_background": "light"
     },
     "output_type": "display_data"
    },
    {
     "name": "stdout",
     "output_type": "stream",
     "text": [
      "Backward\n"
     ]
    },
    {
     "data": {
      "image/png": "[encoded data removed]",
      "text/plain": [
       "<Figure size 432x288 with 1 Axes>"
      ]
     },
     "metadata": {
      "needs_background": "light"
     },
     "output_type": "display_data"
    },
    {
     "name": "stdout",
     "output_type": "stream",
     "text": [
      "Forward\n"
     ]
    },
    {
     "data": {
      "image/png": "[encoded data removed]",
      "text/plain": [
       "<Figure size 432x288 with 1 Axes>"
      ]
     },
     "metadata": {
      "needs_background": "light"
     },
     "output_type": "display_data"
    },
    {
     "name": "stdout",
     "output_type": "stream",
     "text": [
      "Backward\n"
     ]
    },
    {
     "data": {
      "image/png": "[encoded data removed]",
      "text/plain": [
       "<Figure size 432x288 with 1 Axes>"
      ]
     },
     "metadata": {
      "needs_background": "light"
     },
     "output_type": "display_data"
    },
    {
     "name": "stdout",
     "output_type": "stream",
     "text": [
      "Forward\n"
     ]
    },
    {
     "data": {
      "image/png": "[encoded data removed]",
      "text/plain": [
       "<Figure size 432x288 with 1 Axes>"
      ]
     },
     "metadata": {
      "needs_background": "light"
     },
     "output_type": "display_data"
    },
    {
     "name": "stdout",
     "output_type": "stream",
     "text": [
      "Backward\n"
     ]
    },
    {
     "data": {
      "image/png": "[encoded data removed]",
      "text/plain": [
       "<Figure size 432x288 with 1 Axes>"
      ]
     },
     "metadata": {
      "needs_background": "light"
     },
     "output_type": "display_data"
    }
   ],
   "source": [
    "for i in range(10):\n",
    "    ligne = df.iloc[i]\n",
    "    sender = df.iloc[i,2]\n",
    "    receiver = df.iloc[i,3]\n",
    "    SenderX,SenderY=df.iloc[i,3+sender],df.iloc[i,31+sender]\n",
    "    ReceiverX,ReceiverY=df.iloc[i,3+receiver],df.iloc[i,31+receiver]\n",
    "    xmin,xmax,ymin,ymax = -5250, 5250, -3400, 3400\n",
    "    print(DirectionPasse(ligne))\n",
    "    plt.scatter(SenderX,SenderY, color='red')\n",
    "    plt.scatter(ReceiverX,ReceiverY, color='blue')\n",
    "    plt.xlim(xmin,xmax)\n",
    "    plt.ylim(ymin,ymax)\n",
    "    plt.show()"
   ]
  },
  {
   "cell_type": "markdown",
   "metadata": {},
   "source": [
    "<font color='blue'>\n",
    "Cela semble marcher"
   ]
  },
  {
   "cell_type": "markdown",
   "metadata": {},
   "source": [
    "<font color='blue'>\n",
    "  test taux de réussite score1"
   ]
  },
  {
   "cell_type": "code",
   "execution_count": 30,
   "metadata": {},
   "outputs": [
    {
     "data": {
      "text/plain": [
       "0.331507122223329"
      ]
     },
     "execution_count": 30,
     "metadata": {},
     "output_type": "execute_result"
    }
   ],
   "source": [
    "reussite1 = np.mean(df[\"predic1\"]==df[\"receiver_id\"])\n",
    "reussite1"
   ]
  },
  {
   "cell_type": "markdown",
   "metadata": {},
   "source": [
    "<font color='blue'>\n",
    "    score2"
   ]
  },
  {
   "cell_type": "code",
   "execution_count": 31,
   "metadata": {},
   "outputs": [
    {
     "data": {
      "text/plain": [
       "0.39645383006275525"
      ]
     },
     "execution_count": 31,
     "metadata": {},
     "output_type": "execute_result"
    }
   ],
   "source": [
    "reussite2 = np.mean(df[\"predic2\"]==df[\"receiver_id\"])\n",
    "reussite2"
   ]
  },
  {
   "cell_type": "markdown",
   "metadata": {},
   "source": [
    "<Font color='blue'>\n",
    " score3"
   ]
  },
  {
   "cell_type": "code",
   "execution_count": 32,
   "metadata": {},
   "outputs": [
    {
     "data": {
      "text/plain": [
       "0.39685227612311985"
      ]
     },
     "execution_count": 32,
     "metadata": {},
     "output_type": "execute_result"
    }
   ],
   "source": [
    "reussite3 = np.mean(df[\"predic3\"]==df[\"receiver_id\"])\n",
    "reussite3"
   ]
  },
  {
   "cell_type": "markdown",
   "metadata": {},
   "source": [
    "<font color='blue'>\n",
    "    score4"
   ]
  },
  {
   "cell_type": "code",
   "execution_count": 33,
   "metadata": {},
   "outputs": [
    {
     "data": {
      "text/plain": [
       "0.3831058870405419"
      ]
     },
     "execution_count": 33,
     "metadata": {},
     "output_type": "execute_result"
    }
   ],
   "source": [
    "reussite4 = np.mean(df[\"predic4\"]==df[\"receiver_id\"])\n",
    "reussite4"
   ]
  },
  {
   "cell_type": "markdown",
   "metadata": {},
   "source": [
    "<font color = blue>\n",
    "Ici on crée le dataframe pour la régression logistique"
   ]
  },
  {
   "cell_type": "code",
   "execution_count": 34,
   "metadata": {},
   "outputs": [],
   "source": [
    "df_regression = creation_dataframe_regression (df)\n",
    "df_regression.to_csv('dataframe_regression.csv')"
   ]
  },
  {
   "cell_type": "code",
   "execution_count": 35,
   "metadata": {},
   "outputs": [
    {
     "data": {
      "text/html": [
       "<div>\n",
       "<style scoped>\n",
       "    .dataframe tbody tr th:only-of-type {\n",
       "        vertical-align: middle;\n",
       "    }\n",
       "\n",
       "    .dataframe tbody tr th {\n",
       "        vertical-align: top;\n",
       "    }\n",
       "\n",
       "    .dataframe thead th {\n",
       "        text-align: right;\n",
       "    }\n",
       "</style>\n",
       "<table border=\"1\" class=\"dataframe\">\n",
       "  <thead>\n",
       "    <tr style=\"text-align: right;\">\n",
       "      <th></th>\n",
       "      <th>sender_id</th>\n",
       "      <th>receiver_id</th>\n",
       "      <th>receveur_potentiel</th>\n",
       "      <th>passe</th>\n",
       "      <th>passe_id</th>\n",
       "      <th>score1_distance</th>\n",
       "      <th>score2</th>\n",
       "      <th>score3</th>\n",
       "      <th>score4</th>\n",
       "      <th>premiere_distance_receveur</th>\n",
       "      <th>seconde_distance_receveur</th>\n",
       "      <th>premiere_distance_sender</th>\n",
       "      <th>seconde_distance_sender</th>\n",
       "      <th>distance_ligne_passe</th>\n",
       "      <th>adversaire_dans_cone</th>\n",
       "    </tr>\n",
       "  </thead>\n",
       "  <tbody>\n",
       "    <tr>\n",
       "      <td>0</td>\n",
       "      <td>26</td>\n",
       "      <td>18</td>\n",
       "      <td>1</td>\n",
       "      <td>0</td>\n",
       "      <td>1</td>\n",
       "      <td>2392.822601</td>\n",
       "      <td>2392.822601</td>\n",
       "      <td>2392.822601</td>\n",
       "      <td>2626.822601</td>\n",
       "      <td>2652.168924</td>\n",
       "      <td>2697.572983</td>\n",
       "      <td>814.923309</td>\n",
       "      <td>852.349693</td>\n",
       "      <td>1393.417129</td>\n",
       "      <td>0</td>\n",
       "    </tr>\n",
       "    <tr>\n",
       "      <td>1</td>\n",
       "      <td>11</td>\n",
       "      <td>14</td>\n",
       "      <td>1</td>\n",
       "      <td>0</td>\n",
       "      <td>2</td>\n",
       "      <td>1198.540779</td>\n",
       "      <td>2098.540779</td>\n",
       "      <td>2098.540779</td>\n",
       "      <td>1777.540779</td>\n",
       "      <td>502.493781</td>\n",
       "      <td>1884.701568</td>\n",
       "      <td>1388.092216</td>\n",
       "      <td>1646.147017</td>\n",
       "      <td>147.178972</td>\n",
       "      <td>1</td>\n",
       "    </tr>\n",
       "    <tr>\n",
       "      <td>2</td>\n",
       "      <td>4</td>\n",
       "      <td>10</td>\n",
       "      <td>1</td>\n",
       "      <td>0</td>\n",
       "      <td>3</td>\n",
       "      <td>1290.155029</td>\n",
       "      <td>2190.155029</td>\n",
       "      <td>2190.155029</td>\n",
       "      <td>2184.155029</td>\n",
       "      <td>330.151480</td>\n",
       "      <td>910.659102</td>\n",
       "      <td>297.321375</td>\n",
       "      <td>960.052082</td>\n",
       "      <td>4.883134</td>\n",
       "      <td>1</td>\n",
       "    </tr>\n",
       "    <tr>\n",
       "      <td>3</td>\n",
       "      <td>12</td>\n",
       "      <td>7</td>\n",
       "      <td>1</td>\n",
       "      <td>0</td>\n",
       "      <td>4</td>\n",
       "      <td>600.083328</td>\n",
       "      <td>1500.083328</td>\n",
       "      <td>1500.083328</td>\n",
       "      <td>1428.083328</td>\n",
       "      <td>50.000000</td>\n",
       "      <td>700.642562</td>\n",
       "      <td>370.000000</td>\n",
       "      <td>648.845128</td>\n",
       "      <td>11.498403</td>\n",
       "      <td>1</td>\n",
       "    </tr>\n",
       "    <tr>\n",
       "      <td>4</td>\n",
       "      <td>15</td>\n",
       "      <td>24</td>\n",
       "      <td>1</td>\n",
       "      <td>0</td>\n",
       "      <td>5</td>\n",
       "      <td>100000.000000</td>\n",
       "      <td>100000.000000</td>\n",
       "      <td>100000.000000</td>\n",
       "      <td>100000.000000</td>\n",
       "      <td>0.000000</td>\n",
       "      <td>0.000000</td>\n",
       "      <td>735.459040</td>\n",
       "      <td>810.246876</td>\n",
       "      <td>0.000000</td>\n",
       "      <td>0</td>\n",
       "    </tr>\n",
       "    <tr>\n",
       "      <td>...</td>\n",
       "      <td>...</td>\n",
       "      <td>...</td>\n",
       "      <td>...</td>\n",
       "      <td>...</td>\n",
       "      <td>...</td>\n",
       "      <td>...</td>\n",
       "      <td>...</td>\n",
       "      <td>...</td>\n",
       "      <td>...</td>\n",
       "      <td>...</td>\n",
       "      <td>...</td>\n",
       "      <td>...</td>\n",
       "      <td>...</td>\n",
       "      <td>...</td>\n",
       "      <td>...</td>\n",
       "    </tr>\n",
       "    <tr>\n",
       "      <td>140541</td>\n",
       "      <td>7</td>\n",
       "      <td>11</td>\n",
       "      <td>14</td>\n",
       "      <td>0</td>\n",
       "      <td>10035</td>\n",
       "      <td>141995.144283</td>\n",
       "      <td>142895.144283</td>\n",
       "      <td>142950.144283</td>\n",
       "      <td>111933.144283</td>\n",
       "      <td>0.000000</td>\n",
       "      <td>0.000000</td>\n",
       "      <td>1230.040650</td>\n",
       "      <td>2351.276249</td>\n",
       "      <td>0.000000</td>\n",
       "      <td>1</td>\n",
       "    </tr>\n",
       "    <tr>\n",
       "      <td>140542</td>\n",
       "      <td>17</td>\n",
       "      <td>16</td>\n",
       "      <td>14</td>\n",
       "      <td>0</td>\n",
       "      <td>10036</td>\n",
       "      <td>144091.317226</td>\n",
       "      <td>144991.317226</td>\n",
       "      <td>145046.317226</td>\n",
       "      <td>114248.317226</td>\n",
       "      <td>0.000000</td>\n",
       "      <td>0.000000</td>\n",
       "      <td>382.753184</td>\n",
       "      <td>395.979797</td>\n",
       "      <td>0.000000</td>\n",
       "      <td>1</td>\n",
       "    </tr>\n",
       "    <tr>\n",
       "      <td>140543</td>\n",
       "      <td>16</td>\n",
       "      <td>27</td>\n",
       "      <td>14</td>\n",
       "      <td>0</td>\n",
       "      <td>10037</td>\n",
       "      <td>927.793080</td>\n",
       "      <td>927.793080</td>\n",
       "      <td>927.793080</td>\n",
       "      <td>651.793080</td>\n",
       "      <td>1260.634761</td>\n",
       "      <td>1619.413474</td>\n",
       "      <td>822.253002</td>\n",
       "      <td>900.777442</td>\n",
       "      <td>954.523178</td>\n",
       "      <td>0</td>\n",
       "    </tr>\n",
       "    <tr>\n",
       "      <td>140544</td>\n",
       "      <td>27</td>\n",
       "      <td>21</td>\n",
       "      <td>14</td>\n",
       "      <td>0</td>\n",
       "      <td>10038</td>\n",
       "      <td>4481.539914</td>\n",
       "      <td>5381.539914</td>\n",
       "      <td>5381.539914</td>\n",
       "      <td>4724.539914</td>\n",
       "      <td>667.083203</td>\n",
       "      <td>1721.859460</td>\n",
       "      <td>310.161248</td>\n",
       "      <td>552.268051</td>\n",
       "      <td>44.538262</td>\n",
       "      <td>1</td>\n",
       "    </tr>\n",
       "    <tr>\n",
       "      <td>140545</td>\n",
       "      <td>3</td>\n",
       "      <td>1</td>\n",
       "      <td>14</td>\n",
       "      <td>0</td>\n",
       "      <td>10039</td>\n",
       "      <td>3013.254055</td>\n",
       "      <td>3913.254055</td>\n",
       "      <td>3913.254055</td>\n",
       "      <td>3871.254055</td>\n",
       "      <td>602.079729</td>\n",
       "      <td>1138.859078</td>\n",
       "      <td>58.309519</td>\n",
       "      <td>572.800140</td>\n",
       "      <td>48.552162</td>\n",
       "      <td>1</td>\n",
       "    </tr>\n",
       "  </tbody>\n",
       "</table>\n",
       "<p>140546 rows × 15 columns</p>\n",
       "</div>"
      ],
      "text/plain": [
       "        sender_id  receiver_id  receveur_potentiel  passe  passe_id  \\\n",
       "0              26           18                   1      0         1   \n",
       "1              11           14                   1      0         2   \n",
       "2               4           10                   1      0         3   \n",
       "3              12            7                   1      0         4   \n",
       "4              15           24                   1      0         5   \n",
       "...           ...          ...                 ...    ...       ...   \n",
       "140541          7           11                  14      0     10035   \n",
       "140542         17           16                  14      0     10036   \n",
       "140543         16           27                  14      0     10037   \n",
       "140544         27           21                  14      0     10038   \n",
       "140545          3            1                  14      0     10039   \n",
       "\n",
       "        score1_distance         score2         score3         score4  \\\n",
       "0           2392.822601    2392.822601    2392.822601    2626.822601   \n",
       "1           1198.540779    2098.540779    2098.540779    1777.540779   \n",
       "2           1290.155029    2190.155029    2190.155029    2184.155029   \n",
       "3            600.083328    1500.083328    1500.083328    1428.083328   \n",
       "4         100000.000000  100000.000000  100000.000000  100000.000000   \n",
       "...                 ...            ...            ...            ...   \n",
       "140541    141995.144283  142895.144283  142950.144283  111933.144283   \n",
       "140542    144091.317226  144991.317226  145046.317226  114248.317226   \n",
       "140543       927.793080     927.793080     927.793080     651.793080   \n",
       "140544      4481.539914    5381.539914    5381.539914    4724.539914   \n",
       "140545      3013.254055    3913.254055    3913.254055    3871.254055   \n",
       "\n",
       "        premiere_distance_receveur  seconde_distance_receveur  \\\n",
       "0                      2652.168924                2697.572983   \n",
       "1                       502.493781                1884.701568   \n",
       "2                       330.151480                 910.659102   \n",
       "3                        50.000000                 700.642562   \n",
       "4                         0.000000                   0.000000   \n",
       "...                            ...                        ...   \n",
       "140541                    0.000000                   0.000000   \n",
       "140542                    0.000000                   0.000000   \n",
       "140543                 1260.634761                1619.413474   \n",
       "140544                  667.083203                1721.859460   \n",
       "140545                  602.079729                1138.859078   \n",
       "\n",
       "        premiere_distance_sender  seconde_distance_sender  \\\n",
       "0                     814.923309               852.349693   \n",
       "1                    1388.092216              1646.147017   \n",
       "2                     297.321375               960.052082   \n",
       "3                     370.000000               648.845128   \n",
       "4                     735.459040               810.246876   \n",
       "...                          ...                      ...   \n",
       "140541               1230.040650              2351.276249   \n",
       "140542                382.753184               395.979797   \n",
       "140543                822.253002               900.777442   \n",
       "140544                310.161248               552.268051   \n",
       "140545                 58.309519               572.800140   \n",
       "\n",
       "        distance_ligne_passe  adversaire_dans_cone  \n",
       "0                1393.417129                     0  \n",
       "1                 147.178972                     1  \n",
       "2                   4.883134                     1  \n",
       "3                  11.498403                     1  \n",
       "4                   0.000000                     0  \n",
       "...                      ...                   ...  \n",
       "140541              0.000000                     1  \n",
       "140542              0.000000                     1  \n",
       "140543            954.523178                     0  \n",
       "140544             44.538262                     1  \n",
       "140545             48.552162                     1  \n",
       "\n",
       "[140546 rows x 15 columns]"
      ]
     },
     "execution_count": 35,
     "metadata": {},
     "output_type": "execute_result"
    }
   ],
   "source": [
    "df_regression"
   ]
  },
  {
   "cell_type": "markdown",
   "metadata": {},
   "source": [
    "<font color='blue'>\n",
    " ICI ON REGARDE NOS RESULTATS DE LA REGRESSION LOGISTIQUE SANS OPTIMISATION"
   ]
  },
  {
   "cell_type": "code",
   "execution_count": 36,
   "metadata": {},
   "outputs": [],
   "source": [
    "tous_scores, moyenne_scores , matrices_coefs = regression_logistique (10, 0.7)"
   ]
  },
  {
   "cell_type": "code",
   "execution_count": 37,
   "metadata": {},
   "outputs": [
    {
     "data": {
      "text/plain": [
       "array([0.41965471, 0.3997344 , 0.41069057, 0.41633466, 0.39674635,\n",
       "       0.41533865, 0.40471448, 0.40471448, 0.41301461, 0.40571049])"
      ]
     },
     "execution_count": 37,
     "metadata": {},
     "output_type": "execute_result"
    }
   ],
   "source": [
    "tous_scores "
   ]
  },
  {
   "cell_type": "code",
   "execution_count": 38,
   "metadata": {},
   "outputs": [
    {
     "data": {
      "text/plain": [
       "0.4086653386454183"
      ]
     },
     "execution_count": 38,
     "metadata": {},
     "output_type": "execute_result"
    }
   ],
   "source": [
    "moyenne_scores"
   ]
  },
  {
   "cell_type": "markdown",
   "metadata": {},
   "source": [
    "<font color='blue'>\n",
    " ICI ON REGARDE NOS RESULTATS DE LA regression logistique optimisee"
   ]
  },
  {
   "cell_type": "code",
   "execution_count": 2,
   "metadata": {},
   "outputs": [],
   "source": [
    "x, y = regression_logistique_optimisee (10, 0.7)"
   ]
  },
  {
   "cell_type": "code",
   "execution_count": 3,
   "metadata": {},
   "outputs": [
    {
     "data": {
      "text/plain": [
       "array([0.42397078, 0.41998672, 0.42795485, 0.42895086, 0.44090305,\n",
       "       0.41434263, 0.42197875, 0.42729084, 0.4186587 , 0.4123506 ])"
      ]
     },
     "execution_count": 3,
     "metadata": {},
     "output_type": "execute_result"
    }
   ],
   "source": [
    "x"
   ]
  },
  {
   "cell_type": "code",
   "execution_count": 4,
   "metadata": {},
   "outputs": [
    {
     "data": {
      "text/plain": [
       "0.4236387782204515"
      ]
     },
     "execution_count": 4,
     "metadata": {},
     "output_type": "execute_result"
    }
   ],
   "source": [
    "y"
   ]
  },
  {
   "cell_type": "markdown",
   "metadata": {},
   "source": [
    "<font color='blue'>\n",
    " ICI ON REGARDE NOS RESULTATS DE LA Random Forest"
   ]
  },
  {
   "cell_type": "code",
   "execution_count": 2,
   "metadata": {},
   "outputs": [],
   "source": [
    "x, y = RandomForest (10, 0.7)"
   ]
  },
  {
   "cell_type": "code",
   "execution_count": 3,
   "metadata": {},
   "outputs": [
    {
     "data": {
      "text/plain": [
       "array([0.43326693, 0.43326693, 0.42861886, 0.42231076, 0.41699867,\n",
       "       0.45152722, 0.43061089, 0.42463479, 0.42662683, 0.41600266])"
      ]
     },
     "execution_count": 3,
     "metadata": {},
     "output_type": "execute_result"
    }
   ],
   "source": [
    "x"
   ]
  },
  {
   "cell_type": "code",
   "execution_count": 4,
   "metadata": {},
   "outputs": [
    {
     "data": {
      "text/plain": [
       "0.4283864541832669"
      ]
     },
     "execution_count": 4,
     "metadata": {},
     "output_type": "execute_result"
    }
   ],
   "source": [
    "y"
   ]
  },
  {
   "cell_type": "code",
   "execution_count": null,
   "metadata": {},
   "outputs": [],
   "source": []
  }
 ],
 "metadata": {
  "kernelspec": {
   "display_name": "Python 3",
   "language": "python",
   "name": "python3"
  },
  "language_info": {
   "codemirror_mode": {
    "name": "ipython",
    "version": 3
   },
   "file_extension": ".py",
   "mimetype": "text/x-python",
   "name": "python",
   "nbconvert_exporter": "python",
   "pygments_lexer": "ipython3",
   "version": "3.6.8"
  },
  "latex_envs": {
   "LaTeX_envs_menu_present": true,
   "autoclose": false,
   "autocomplete": true,
   "bibliofile": "biblio.bib",
   "cite_by": "apalike",
   "current_citInitial": 1,
   "eqLabelWithNumbers": true,
   "eqNumInitial": 1,
   "hotkeys": {
    "equation": "Ctrl-E",
    "itemize": "Ctrl-I"
   },
   "labels_anchors": false,
   "latex_user_defs": false,
   "report_style_numbering": false,
   "user_envs_cfg": false
  }
 },
 "nbformat": 4,
 "nbformat_minor": 4
}
